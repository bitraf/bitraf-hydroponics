{
 "cells": [
  {
   "cell_type": "code",
   "execution_count": 1,
   "metadata": {
    "collapsed": true
   },
   "outputs": [],
   "source": [
    "from IPython.display import display, Markdown, Latex\n",
    "import scipy.stats\n",
    "import scipy.optimize\n",
    "import numpy as np\n",
    "\n",
    "#%matplotlib inline\n",
    "%matplotlib notebook\n",
    "import matplotlib.pyplot as plt"
   ]
  },
  {
   "cell_type": "markdown",
   "metadata": {},
   "source": [
    "* MOSFET used: DMN2041L\n",
    "* GPIO voltage: $3.0 V$ ($V_{dd} - 0.3 V$). All values in the datasheet assume $V_{GS}$ of $2.5 V$ or $4.5 V$ so we use $2.5 V$.\n",
    "* Temperature: $25 °C$ (room temperature)\n",
    "* Imax: $500 mA$\n",
    "\n",
    "## From datasheet\n",
    "\n",
    "* $R_{ds(on)max} = 41 m\\Omega @ 2.5 V$\n",
    "* Thermal Resistance, Junction to Ambient @ TA=+25 °C: $R_{\\theta JA}=161 °C/W$"
   ]
  },
  {
   "cell_type": "code",
   "execution_count": 2,
   "metadata": {},
   "outputs": [
    {
     "data": {
      "text/markdown": [
       "Slope and intercept for $R_{DS(on)}$ vs $T$:\n",
       "Slope = $0.00399$, Intercept = $0.95543$"
      ],
      "text/plain": [
       "<IPython.core.display.Markdown object>"
      ]
     },
     "metadata": {},
     "output_type": "display_data"
    }
   ],
   "source": [
    "# From manual measurements of \"Fig. 5 On-Resistance Variation with Temperature\"\n",
    "measurements=[\n",
    "    [-50, 0.75],\n",
    "    [0, 1],\n",
    "    [50, 1.1],\n",
    "    [150, 1.57],\n",
    "]\n",
    "\n",
    "#slope, intercept, r_value, p_value, std_err = scipy.stats.linregress(measurements)\n",
    "\n",
    "def rdson_factor_for_temp(temp):\n",
    "    x=rdson_factor_for_temp.x\n",
    "    return x.intercept + (temp*x.slope)\n",
    "rdson_factor_for_temp.x = scipy.stats.linregress(measurements)\n",
    "\n",
    "display(Markdown(\"Slope and intercept for $R_{{DS(on)}}$ vs $T$:\\nSlope = ${:0.5f}$, Intercept = ${:0.5f}$\".format(\n",
    "    rdson_factor_for_temp.x.slope, rdson_factor_for_temp.x.intercept)))\n",
    "\n",
    "#x = np.linspace(-50, 150, 100)\n",
    "#plt.plot(x, rdson_factor_for_temp(x))\n",
    "#plt.title(\"$R_{DS(on)}$ vs Temperature\")\n",
    "#plt.show()"
   ]
  },
  {
   "cell_type": "code",
   "execution_count": 3,
   "metadata": {},
   "outputs": [
    {
     "data": {
      "text/markdown": [
       "Temperature: $25.07 ^{\\circ}C$ at $I=100 mA$ and $T_{A} = 25 ^{\\circ}C$"
      ],
      "text/plain": [
       "<IPython.core.display.Markdown object>"
      ]
     },
     "metadata": {},
     "output_type": "display_data"
    },
    {
     "data": {
      "text/markdown": [
       "Temperature: $26.75 ^{\\circ}C$ at $I=500 mA$ and $T_{A} = 25 ^{\\circ}C$"
      ],
      "text/plain": [
       "<IPython.core.display.Markdown object>"
      ]
     },
     "metadata": {},
     "output_type": "display_data"
    },
    {
     "data": {
      "text/markdown": [
       "Temperature: $32.15 ^{\\circ}C$ at $I=1000 mA$ and $T_{A} = 25 ^{\\circ}C$"
      ],
      "text/plain": [
       "<IPython.core.display.Markdown object>"
      ]
     },
     "metadata": {},
     "output_type": "display_data"
    },
    {
     "data": {
      "text/markdown": [
       "Temperature: $56.14 ^{\\circ}C$ at $I=2000 mA$ and $T_{A} = 25 ^{\\circ}C$"
      ],
      "text/plain": [
       "<IPython.core.display.Markdown object>"
      ]
     },
     "metadata": {},
     "output_type": "display_data"
    }
   ],
   "source": [
    "Von=2.5\n",
    "Ta=25\n",
    "Imax=500e-3\n",
    "Imax=2\n",
    "Rdson=0.041\n",
    "TR=161\n",
    "\n",
    "def calc_temp(I):\n",
    "    def mosfet_temp(I):\n",
    "        # Uses the global Rdson and Ta\n",
    "        def mosfet_temp_single(T, Rdson, I):\n",
    "            R=Rdson*rdson_factor_for_temp(T)\n",
    "            P=I*I*R\n",
    "\n",
    "            Trise=TR*P\n",
    "            T=Ta+Trise\n",
    "\n",
    "            return T\n",
    "\n",
    "        return scipy.optimize.fixed_point(mosfet_temp_single, [Rdson, I], args=(Rdson, I), xtol=1e-3)\n",
    "\n",
    "    res = mosfet_temp(I)\n",
    "    if res[0] == res[1]:\n",
    "        msg = \"Temperature: ${:0.2f} ^{{\\circ}}C$ at $I={:.0f} mA$ and $T_{{A}} = {} ^{{\\circ}}C$\".format(res[0], I * 1000, Ta)\n",
    "    else:\n",
    "        msg = \"Could not converge, temp is between {} and {} ^{{\\circ}}C\".format(res[0], res[1])\n",
    "\n",
    "    display(Markdown(msg))\n",
    "    \n",
    "calc_temp(0.1)\n",
    "calc_temp(0.500)\n",
    "calc_temp(1)\n",
    "calc_temp(2)"
   ]
  },
  {
   "cell_type": "code",
   "execution_count": 4,
   "metadata": {},
   "outputs": [],
   "source": [
    "def f(I):\n",
    "    t=mosfet_temp(I)\n",
    "    return t[0] if t[0] == t[1] else (t[0] + t[1])/2 # None\n",
    "\n",
    "i = np.linspace(0.001, 5, 100) # 6.4 A is \n",
    "#plt.plot(i, np.vectorize(f, otypes=[float])(i))\n",
    "#plt.title(\"$I$ vs Temperature\")\n",
    "#plt.xlabel(\"Current\")\n",
    "#plt.ylabel(\"Temperature\")\n",
    "#plt.grid()\n",
    "#plt.show()"
   ]
  }
 ],
 "metadata": {
  "kernelspec": {
   "display_name": "Python 3",
   "language": "python",
   "name": "python3"
  },
  "language_info": {
   "codemirror_mode": {
    "name": "ipython",
    "version": 3
   },
   "file_extension": ".py",
   "mimetype": "text/x-python",
   "name": "python",
   "nbconvert_exporter": "python",
   "pygments_lexer": "ipython3",
   "version": "3.5.4"
  }
 },
 "nbformat": 4,
 "nbformat_minor": 2
}
